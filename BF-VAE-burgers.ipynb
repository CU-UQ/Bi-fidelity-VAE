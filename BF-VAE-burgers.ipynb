{
 "cells": [
  {
   "cell_type": "code",
   "execution_count": 25,
   "metadata": {},
   "outputs": [],
   "source": [
    "import torch\n",
    "import numpy as np\n",
    "import matplotlib.pyplot as plt\n",
    "from torch.utils.data import DataLoader\n",
    "from models import BFDataset, VAE, BFVAE\n",
    "from MMD_func import MMD_U as MMD\n",
    "rng = np.random.default_rng()"
   ]
  },
  {
   "cell_type": "code",
   "execution_count": 26,
   "metadata": {},
   "outputs": [],
   "source": [
    "# import training and test data\n",
    "path = '../MonteCarlo/burgers-4.npz'\n",
    "file = np.load(path)\n",
    "LF, HF = file['yL'], file['yH']\n",
    "\n",
    "xL_trn = torch.from_numpy(LF[:4000]).type(torch.FloatTensor)\n",
    "xL = torch.from_numpy(LF[:8000]).type(torch.FloatTensor)\n",
    "xH = torch.from_numpy(HF[:8000]).type(torch.FloatTensor)\n",
    "xH_tst = torch.from_numpy(HF[8000: 9000]).type(torch.FloatTensor)"
   ]
  },
  {
   "cell_type": "code",
   "execution_count": 27,
   "metadata": {},
   "outputs": [
    {
     "name": "stderr",
     "output_type": "stream",
     "text": [
      "100%|██████████| 2000/2000 [09:50<00:00,  3.39 Epoch/s, loss=-11.479053] \n"
     ]
    }
   ],
   "source": [
    "## Universal hyper-para\n",
    "_,input_dim = xH_tst.shape\n",
    "batch_size = 64\n",
    "tst_size = 1000\n",
    "mmd_para = [0.2, 0.5, 1.0, 2.0, 5.0]\n",
    "latent_dim = 4\n",
    "hidden_dims = [128, 64, 16]\n",
    "beta = 0.5\n",
    "num_trial = 5\n",
    "hf_size_lst = [2, 3, 4, 5, 7, 8, 10, 50, 100, 1000]\n",
    "\n",
    "\n",
    "# claim and train lf-vae\n",
    "lfvae_model = VAE(input_dim, latent_dim, hidden_dims, beta)\n",
    "lfvae_loss = lfvae_model.train(xL_trn, epochs=2000)"
   ]
  },
  {
   "cell_type": "code",
   "execution_count": 28,
   "metadata": {},
   "outputs": [
    {
     "name": "stderr",
     "output_type": "stream",
     "text": [
      "100%|██████████| 1000/1000 [00:02<00:00, 346.28 Epoch/s, loss=2901.11] \n",
      "100%|██████████| 1000/1000 [00:01<00:00, 587.71 Epoch/s, loss=0.03577869] \n",
      "100%|██████████| 1000/1000 [00:03<00:00, 317.50 Epoch/s, loss=296.7251]\n",
      "100%|██████████| 1000/1000 [00:01<00:00, 582.12 Epoch/s, loss=0.015024947]\n",
      "100%|██████████| 1000/1000 [00:02<00:00, 341.26 Epoch/s, loss=3120.8027]\n",
      "100%|██████████| 1000/1000 [00:01<00:00, 559.04 Epoch/s, loss=1.1211736]\n",
      "100%|██████████| 1000/1000 [00:03<00:00, 326.86 Epoch/s, loss=181.53539]\n",
      "100%|██████████| 1000/1000 [00:01<00:00, 582.76 Epoch/s, loss=0.024315078]\n",
      "100%|██████████| 1000/1000 [00:02<00:00, 352.90 Epoch/s, loss=2845.413]\n",
      "100%|██████████| 1000/1000 [00:01<00:00, 557.00 Epoch/s, loss=0.10829984]\n",
      "100%|██████████| 1000/1000 [00:03<00:00, 316.56 Epoch/s, loss=406.84097]\n",
      "100%|██████████| 1000/1000 [00:01<00:00, 577.95 Epoch/s, loss=0.19645941]\n",
      "100%|██████████| 1000/1000 [00:03<00:00, 300.59 Epoch/s, loss=3489.3748]\n",
      "100%|██████████| 1000/1000 [00:01<00:00, 543.26 Epoch/s, loss=0.23855716]\n",
      "100%|██████████| 1000/1000 [00:03<00:00, 323.37 Epoch/s, loss=535.69885]\n",
      "100%|██████████| 1000/1000 [00:01<00:00, 541.65 Epoch/s, loss=0.21254107]\n",
      "100%|██████████| 1000/1000 [00:02<00:00, 343.00 Epoch/s, loss=4672.0654]\n",
      "100%|██████████| 1000/1000 [00:01<00:00, 553.08 Epoch/s, loss=0.2815325] \n",
      "100%|██████████| 1000/1000 [00:03<00:00, 315.55 Epoch/s, loss=318.0877] \n",
      "100%|██████████| 1000/1000 [00:01<00:00, 564.35 Epoch/s, loss=0.053930614]\n",
      "100%|██████████| 1000/1000 [00:02<00:00, 342.74 Epoch/s, loss=6163.513]\n",
      "100%|██████████| 1000/1000 [00:01<00:00, 543.41 Epoch/s, loss=0.3908045] \n",
      "100%|██████████| 1000/1000 [00:03<00:00, 312.23 Epoch/s, loss=352.4922] \n",
      "100%|██████████| 1000/1000 [00:01<00:00, 526.28 Epoch/s, loss=0.2579276] \n",
      "100%|██████████| 1000/1000 [00:02<00:00, 337.73 Epoch/s, loss=5204.353]\n",
      "100%|██████████| 1000/1000 [00:01<00:00, 516.41 Epoch/s, loss=0.5448083] \n",
      "100%|██████████| 1000/1000 [00:03<00:00, 308.38 Epoch/s, loss=1133.2646]\n",
      "100%|██████████| 1000/1000 [00:01<00:00, 554.02 Epoch/s, loss=0.7118612] \n",
      "100%|██████████| 1000/1000 [00:02<00:00, 350.69 Epoch/s, loss=5805.636]\n",
      "100%|██████████| 1000/1000 [00:01<00:00, 533.93 Epoch/s, loss=0.4225961] \n",
      "100%|██████████| 1000/1000 [00:03<00:00, 282.94 Epoch/s, loss=410.2376] \n",
      "100%|██████████| 1000/1000 [00:01<00:00, 518.58 Epoch/s, loss=0.117959894]\n",
      "100%|██████████| 1000/1000 [00:03<00:00, 331.43 Epoch/s, loss=8004.5186]\n",
      "100%|██████████| 1000/1000 [00:01<00:00, 522.97 Epoch/s, loss=1.2957693]\n",
      "100%|██████████| 1000/1000 [00:03<00:00, 275.53 Epoch/s, loss=579.8009] \n",
      "100%|██████████| 1000/1000 [00:02<00:00, 429.55 Epoch/s, loss=0.24362952]\n",
      "100%|██████████| 1000/1000 [00:03<00:00, 318.02 Epoch/s, loss=5882.806]\n",
      "100%|██████████| 1000/1000 [00:01<00:00, 514.58 Epoch/s, loss=0.05894846] \n",
      "100%|██████████| 1000/1000 [00:03<00:00, 262.14 Epoch/s, loss=453.87555]\n",
      "100%|██████████| 1000/1000 [00:01<00:00, 503.88 Epoch/s, loss=0.059544254]\n",
      "100%|██████████| 1000/1000 [00:03<00:00, 297.43 Epoch/s, loss=7940.6006]\n",
      "100%|██████████| 1000/1000 [00:01<00:00, 500.06 Epoch/s, loss=0.20165335]\n",
      "100%|██████████| 1000/1000 [00:03<00:00, 278.46 Epoch/s, loss=1014.1787]\n",
      "100%|██████████| 1000/1000 [00:02<00:00, 477.33 Epoch/s, loss=0.357948]  \n",
      "100%|██████████| 1000/1000 [00:03<00:00, 327.62 Epoch/s, loss=9198.361] \n",
      "100%|██████████| 1000/1000 [00:01<00:00, 507.16 Epoch/s, loss=0.383465]  \n",
      "100%|██████████| 1000/1000 [00:03<00:00, 271.68 Epoch/s, loss=617.5867] \n",
      "100%|██████████| 1000/1000 [00:01<00:00, 504.32 Epoch/s, loss=0.044480197]\n",
      "100%|██████████| 1000/1000 [00:03<00:00, 329.31 Epoch/s, loss=9948.051] \n",
      "100%|██████████| 1000/1000 [00:02<00:00, 486.91 Epoch/s, loss=0.34748814]\n",
      "100%|██████████| 1000/1000 [00:03<00:00, 252.88 Epoch/s, loss=1720.5168]\n",
      "100%|██████████| 1000/1000 [00:02<00:00, 454.72 Epoch/s, loss=0.49493366]\n",
      "100%|██████████| 1000/1000 [00:03<00:00, 325.97 Epoch/s, loss=8647.299]\n",
      "100%|██████████| 1000/1000 [00:02<00:00, 447.54 Epoch/s, loss=0.60920554]\n",
      "100%|██████████| 1000/1000 [00:04<00:00, 246.01 Epoch/s, loss=761.549]  \n",
      "100%|██████████| 1000/1000 [00:02<00:00, 451.18 Epoch/s, loss=0.27414235]\n",
      "100%|██████████| 1000/1000 [00:03<00:00, 325.23 Epoch/s, loss=12210.507]\n",
      "100%|██████████| 1000/1000 [00:02<00:00, 442.13 Epoch/s, loss=0.2681382] \n",
      "100%|██████████| 1000/1000 [00:04<00:00, 244.11 Epoch/s, loss=1182.3308]\n",
      "100%|██████████| 1000/1000 [00:02<00:00, 445.77 Epoch/s, loss=0.41152033]\n",
      "100%|██████████| 1000/1000 [00:03<00:00, 285.66 Epoch/s, loss=12278.271]\n",
      "100%|██████████| 1000/1000 [00:02<00:00, 438.39 Epoch/s, loss=0.34096715]\n",
      "100%|██████████| 1000/1000 [00:04<00:00, 231.00 Epoch/s, loss=716.6975] \n",
      "100%|██████████| 1000/1000 [00:02<00:00, 427.98 Epoch/s, loss=0.18670492]\n",
      "100%|██████████| 1000/1000 [00:03<00:00, 286.25 Epoch/s, loss=12673.98] \n",
      "100%|██████████| 1000/1000 [00:02<00:00, 395.42 Epoch/s, loss=0.3171462] \n",
      "100%|██████████| 1000/1000 [00:04<00:00, 230.56 Epoch/s, loss=665.92865]\n",
      "100%|██████████| 1000/1000 [00:02<00:00, 393.55 Epoch/s, loss=0.092562504]\n",
      "100%|██████████| 1000/1000 [00:03<00:00, 286.98 Epoch/s, loss=13696.744]\n",
      "100%|██████████| 1000/1000 [00:02<00:00, 438.48 Epoch/s, loss=0.7960992] \n",
      "100%|██████████| 1000/1000 [00:05<00:00, 173.44 Epoch/s, loss=9764.476] \n",
      "100%|██████████| 1000/1000 [00:03<00:00, 321.18 Epoch/s, loss=0.6997341] \n",
      "100%|██████████| 1000/1000 [00:04<00:00, 207.20 Epoch/s, loss=48821.72]\n",
      "100%|██████████| 1000/1000 [00:03<00:00, 318.44 Epoch/s, loss=0.31186482]\n",
      "100%|██████████| 1000/1000 [00:05<00:00, 171.65 Epoch/s, loss=11802.374]\n",
      "100%|██████████| 1000/1000 [00:03<00:00, 318.67 Epoch/s, loss=0.6781152] \n",
      "100%|██████████| 1000/1000 [00:04<00:00, 206.63 Epoch/s, loss=58958.93]\n",
      "100%|██████████| 1000/1000 [00:03<00:00, 269.90 Epoch/s, loss=0.3842939] \n",
      "100%|██████████| 1000/1000 [00:05<00:00, 172.76 Epoch/s, loss=7388.4463]\n",
      "100%|██████████| 1000/1000 [00:03<00:00, 308.00 Epoch/s, loss=0.5784964] \n",
      "100%|██████████| 1000/1000 [00:08<00:00, 117.24 Epoch/s, loss=-19.525566]\n",
      "100%|██████████| 1000/1000 [00:05<00:00, 194.85 Epoch/s, loss=0.0008630651]\n",
      "100%|██████████| 1000/1000 [00:10<00:00, 99.19 Epoch/s, loss=-20.260044]\n",
      "100%|██████████| 1000/1000 [00:05<00:00, 191.40 Epoch/s, loss=0.0008584064]\n",
      "100%|██████████| 1000/1000 [00:08<00:00, 120.11 Epoch/s, loss=-19.252958]\n",
      "100%|██████████| 1000/1000 [00:05<00:00, 194.81 Epoch/s, loss=0.0008815493]\n",
      "100%|██████████| 1000/1000 [00:10<00:00, 98.18 Epoch/s, loss=-19.394588]\n",
      "100%|██████████| 1000/1000 [00:05<00:00, 190.20 Epoch/s, loss=0.0008434421]\n",
      "100%|██████████| 1000/1000 [00:08<00:00, 118.62 Epoch/s, loss=-19.521458]\n",
      "100%|██████████| 1000/1000 [00:05<00:00, 191.93 Epoch/s, loss=0.00084064866]\n",
      "100%|██████████| 1000/1000 [01:16<00:00, 13.06 Epoch/s, loss=-12.408102]\n",
      "100%|██████████| 1000/1000 [00:35<00:00, 28.41 Epoch/s, loss=0.0005047064]\n",
      "100%|██████████| 1000/1000 [01:01<00:00, 16.35 Epoch/s, loss=-12.556082]\n",
      "100%|██████████| 1000/1000 [00:34<00:00, 28.83 Epoch/s, loss=0.0004958828]\n",
      "100%|██████████| 1000/1000 [01:16<00:00, 13.04 Epoch/s, loss=-12.524431]\n",
      "100%|██████████| 1000/1000 [00:35<00:00, 28.40 Epoch/s, loss=0.00048280627]\n",
      "100%|██████████| 1000/1000 [00:59<00:00, 16.93 Epoch/s, loss=-12.7334385]\n",
      "100%|██████████| 1000/1000 [00:35<00:00, 28.15 Epoch/s, loss=0.00048368995]\n",
      "100%|██████████| 1000/1000 [01:12<00:00, 13.78 Epoch/s, loss=-12.380861]\n",
      "100%|██████████| 1000/1000 [00:33<00:00, 29.42 Epoch/s, loss=0.00050315954]\n"
     ]
    }
   ],
   "source": [
    "hf_mmd_lst, bf_mmd_lst = [], []\n",
    "for hf_size in hf_size_lst:\n",
    "    hf_mmd, bf_mmd = [], []\n",
    "    for _ in range(num_trial):      \n",
    "        # claim and train hf-vae\n",
    "        hf_trn_idx = rng.choice(8000, hf_size, replace=False)\n",
    "        hf_trn_data = xH[hf_trn_idx]\n",
    "        hfvae_model = VAE(input_dim, latent_dim, hidden_dims, beta)\n",
    "        hfvae_loss = hfvae_model.train(hf_trn_data, epochs=1000)\n",
    "\n",
    "        # claim and train bf-vae\n",
    "        hf_trn_data = xH[hf_trn_idx]\n",
    "        lf_trn_data = xL[hf_trn_idx]\n",
    "        bf_trn_data = BFDataset(lf_trn_data, hf_trn_data)\n",
    "        bfvae_model = BFVAE(lfvae_model)\n",
    "        bfvae_loss = bfvae_model.train(bf_trn_data, epochs=1000)\n",
    "\n",
    "        ## Compute MMD result\n",
    "        # HF-VAE\n",
    "        hf_gen = hfvae_model.sample(1000)\n",
    "        hf_mmd.append(MMD(hf_gen, xH_tst, mmd_para)) \n",
    "\n",
    "        # BF-VAE\n",
    "        bf_gen = bfvae_model.sample(1000)\n",
    "        bf_mmd.append(MMD(bf_gen, xH_tst, mmd_para)) \n",
    "        \n",
    "    hf_mmd_lst.append(hf_mmd)\n",
    "    bf_mmd_lst.append(bf_mmd)"
   ]
  },
  {
   "cell_type": "code",
   "execution_count": 32,
   "metadata": {},
   "outputs": [
    {
     "data": {
      "image/png": "[encoded data removed]",
      "text/plain": [
       "<Figure size 432x288 with 1 Axes>"
      ]
     },
     "metadata": {
      "needs_background": "light"
     },
     "output_type": "display_data"
    }
   ],
   "source": [
    "scale = 0.5\n",
    "hf_mean, bf_mean = np.mean(hf_mmd_lst, axis=1), np.mean(bf_mmd_lst, axis=1)\n",
    "hf_std, bf_std = np.std(hf_mmd_lst, axis=1), np.std(bf_mmd_lst, axis=1)\n",
    "plt.plot(hf_size_lst, hf_mean, 'o' ,c='b', label='HF-VAE', alpha=0.8)\n",
    "plt.fill_between(hf_size_lst, hf_mean - scale * hf_std, hf_mean + scale * hf_std, color='b', alpha=0.4)\n",
    "plt.plot(hf_size_lst, bf_mean, 'o' ,c='y', label='BF-VAE', alpha=0.8)\n",
    "plt.fill_between(hf_size_lst, bf_mean - scale * bf_std, bf_mean + scale * bf_std, color='y', alpha=0.4)\n",
    "plt.legend()\n",
    "plt.xscale('log')\n",
    "plt.yscale('log')"
   ]
  },
  {
   "cell_type": "code",
   "execution_count": null,
   "metadata": {},
   "outputs": [],
   "source": []
  }
 ],
 "metadata": {
  "kernelspec": {
   "display_name": "Python 3",
   "language": "python",
   "name": "python3"
  },
  "language_info": {
   "codemirror_mode": {
    "name": "ipython",
    "version": 3
   },
   "file_extension": ".py",
   "mimetype": "text/x-python",
   "name": "python",
   "nbconvert_exporter": "python",
   "pygments_lexer": "ipython3",
   "version": "3.8.5"
  }
 },
 "nbformat": 4,
 "nbformat_minor": 4
}
