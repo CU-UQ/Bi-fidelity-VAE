{
 "cells": [
  {
   "cell_type": "code",
   "execution_count": 8,
   "metadata": {},
   "outputs": [],
   "source": [
    "import torch\n",
    "import numpy as np\n",
    "import matplotlib.pyplot as plt\n",
    "from torch.utils.data import DataLoader\n",
    "from models import BFDataset, VAE, BFVAE\n",
    "from MMD_func import MMD_U as MMD\n",
    "rng = np.random.default_rng()"
   ]
  },
  {
   "cell_type": "code",
   "execution_count": 9,
   "metadata": {},
   "outputs": [],
   "source": [
    "# import training and test data\n",
    "LF, HF = np.load('../Data/cav_xL.npy'), np.load('../Data/cav_xH.npy')\n",
    "xL_trn = torch.from_numpy(LF[:4000]).type(torch.FloatTensor)\n",
    "xL = torch.from_numpy(LF[:8000]).type(torch.FloatTensor)\n",
    "xH = torch.from_numpy(HF[:8000]).type(torch.FloatTensor)\n",
    "xH_tst = torch.from_numpy(HF[8000: 9000]).type(torch.FloatTensor)"
   ]
  },
  {
   "cell_type": "code",
   "execution_count": 10,
   "metadata": {},
   "outputs": [
    {
     "name": "stderr",
     "output_type": "stream",
     "text": [
      "100%|██████████| 2000/2000 [08:02<00:00,  4.14 Epoch/s, loss=249.35622]\n"
     ]
    }
   ],
   "source": [
    "## Universal hyper-para\n",
    "_,input_dim = xH_tst.shape\n",
    "batch_size = 64\n",
    "tst_size = 1000\n",
    "mmd_para = [0.2, 0.5, 1.0, 2.0, 5.0]\n",
    "latent_dim = 4\n",
    "hidden_dims = [128, 64, 16]\n",
    "beta = 1.25\n",
    "num_trial = 3\n",
    "hf_size_lst = [2, 5, 7, 10, 50, 100, 500, 1000, 5000]\n",
    "\n",
    "\n",
    "# claim and train lf-vae\n",
    "lfvae_model = VAE(input_dim, latent_dim, hidden_dims, beta)\n",
    "lfvae_loss = lfvae_model.train(xL_trn, epochs=2000)"
   ]
  },
  {
   "cell_type": "code",
   "execution_count": 11,
   "metadata": {},
   "outputs": [
    {
     "name": "stderr",
     "output_type": "stream",
     "text": [
      "100%|██████████| 1000/1000 [00:03<00:00, 319.80 Epoch/s, loss=36153.58]\n",
      "100%|██████████| 1000/1000 [00:01<00:00, 540.70 Epoch/s, loss=5.453732]\n",
      "100%|██████████| 1000/1000 [00:03<00:00, 294.72 Epoch/s, loss=18106.19] \n",
      "100%|██████████| 1000/1000 [00:01<00:00, 540.87 Epoch/s, loss=8.441755]\n",
      "100%|██████████| 1000/1000 [00:03<00:00, 319.18 Epoch/s, loss=14267.246]\n",
      "100%|██████████| 1000/1000 [00:01<00:00, 538.02 Epoch/s, loss=8.401947]\n",
      "100%|██████████| 1000/1000 [00:03<00:00, 253.82 Epoch/s, loss=11524.262]\n",
      "100%|██████████| 1000/1000 [00:02<00:00, 484.25 Epoch/s, loss=4.368307]\n",
      "100%|██████████| 1000/1000 [00:03<00:00, 303.70 Epoch/s, loss=38085.043]\n",
      "100%|██████████| 1000/1000 [00:02<00:00, 489.70 Epoch/s, loss=9.900857]\n",
      "100%|██████████| 1000/1000 [00:03<00:00, 251.83 Epoch/s, loss=36155.91] \n",
      "100%|██████████| 1000/1000 [00:02<00:00, 482.07 Epoch/s, loss=38.731712]\n",
      "100%|██████████| 1000/1000 [00:03<00:00, 302.10 Epoch/s, loss=65474.76]\n",
      "100%|██████████| 1000/1000 [00:02<00:00, 476.05 Epoch/s, loss=18.704266]\n",
      "100%|██████████| 1000/1000 [00:03<00:00, 256.15 Epoch/s, loss=40311.887]\n",
      "100%|██████████| 1000/1000 [00:02<00:00, 478.03 Epoch/s, loss=19.645409]\n",
      "100%|██████████| 1000/1000 [00:03<00:00, 301.21 Epoch/s, loss=79727.73]\n",
      "100%|██████████| 1000/1000 [00:02<00:00, 469.11 Epoch/s, loss=11.469335]\n",
      "100%|██████████| 1000/1000 [00:04<00:00, 212.07 Epoch/s, loss=69971.77]\n",
      "100%|██████████| 1000/1000 [00:02<00:00, 396.51 Epoch/s, loss=7.4363265]\n",
      "100%|██████████| 1000/1000 [00:03<00:00, 268.87 Epoch/s, loss=122647.42]\n",
      "100%|██████████| 1000/1000 [00:02<00:00, 409.93 Epoch/s, loss=17.185255]\n",
      "100%|██████████| 1000/1000 [00:04<00:00, 211.11 Epoch/s, loss=35944.484]\n",
      "100%|██████████| 1000/1000 [00:02<00:00, 404.69 Epoch/s, loss=9.613581]\n",
      "100%|██████████| 1000/1000 [00:05<00:00, 180.40 Epoch/s, loss=554138.9]\n",
      "100%|██████████| 1000/1000 [00:03<00:00, 295.67 Epoch/s, loss=8.579575]\n",
      "100%|██████████| 1000/1000 [00:06<00:00, 159.82 Epoch/s, loss=445371.44]\n",
      "100%|██████████| 1000/1000 [00:03<00:00, 290.34 Epoch/s, loss=15.940226]\n",
      "100%|██████████| 1000/1000 [00:05<00:00, 174.64 Epoch/s, loss=467210.34]\n",
      "100%|██████████| 1000/1000 [00:03<00:00, 298.27 Epoch/s, loss=9.9276495]\n",
      "100%|██████████| 1000/1000 [00:10<00:00, 93.03 Epoch/s, loss=276.64026]\n",
      "100%|██████████| 1000/1000 [00:05<00:00, 169.95 Epoch/s, loss=0.011185862]\n",
      "100%|██████████| 1000/1000 [00:09<00:00, 106.22 Epoch/s, loss=295.2876]\n",
      "100%|██████████| 1000/1000 [00:05<00:00, 174.53 Epoch/s, loss=0.0120731965]\n",
      "100%|██████████| 1000/1000 [00:10<00:00, 94.73 Epoch/s, loss=323.3833] \n",
      "100%|██████████| 1000/1000 [00:05<00:00, 173.26 Epoch/s, loss=0.012371545]\n",
      "100%|██████████| 1000/1000 [00:29<00:00, 33.68 Epoch/s, loss=228.7127]\n",
      "100%|██████████| 1000/1000 [00:17<00:00, 56.02 Epoch/s, loss=0.007376913]\n",
      "100%|██████████| 1000/1000 [00:36<00:00, 27.33 Epoch/s, loss=226.94934]\n",
      "100%|██████████| 1000/1000 [00:21<00:00, 46.99 Epoch/s, loss=0.0071517723]\n",
      "100%|██████████| 1000/1000 [00:31<00:00, 31.87 Epoch/s, loss=234.91055]\n",
      "100%|██████████| 1000/1000 [00:17<00:00, 56.20 Epoch/s, loss=0.007236364]\n",
      "100%|██████████| 1000/1000 [01:11<00:00, 14.02 Epoch/s, loss=210.91467]\n",
      "100%|██████████| 1000/1000 [00:32<00:00, 30.51 Epoch/s, loss=0.005916639]\n",
      "100%|██████████| 1000/1000 [00:56<00:00, 17.81 Epoch/s, loss=211.72125]\n",
      "100%|██████████| 1000/1000 [00:32<00:00, 30.64 Epoch/s, loss=0.006373658]\n",
      "100%|██████████| 1000/1000 [01:09<00:00, 14.30 Epoch/s, loss=210.00597]\n",
      "100%|██████████| 1000/1000 [00:32<00:00, 30.61 Epoch/s, loss=0.006345674]\n",
      "100%|██████████| 1000/1000 [04:15<00:00,  3.91 Epoch/s, loss=202.69173]\n",
      "100%|██████████| 1000/1000 [02:22<00:00,  7.03 Epoch/s, loss=0.0061982763]\n",
      "100%|██████████| 1000/1000 [05:04<00:00,  3.28 Epoch/s, loss=198.09624]\n",
      "100%|██████████| 1000/1000 [02:25<00:00,  6.87 Epoch/s, loss=0.006196468]\n",
      "100%|██████████| 1000/1000 [04:27<00:00,  3.74 Epoch/s, loss=198.39444]\n",
      "100%|██████████| 1000/1000 [02:33<00:00,  6.53 Epoch/s, loss=0.006339516]\n"
     ]
    }
   ],
   "source": [
    "hf_mmd_lst, bf_mmd_lst = [], []\n",
    "for hf_size in hf_size_lst:\n",
    "    hf_mmd, bf_mmd = 0, 0\n",
    "    for _ in range(num_trial):      \n",
    "        # claim and train hf-vae\n",
    "        hf_trn_idx = rng.choice(8000, hf_size, replace=False)\n",
    "        hf_trn_data = xH[hf_trn_idx]\n",
    "        hfvae_model = VAE(input_dim, latent_dim, hidden_dims, beta)\n",
    "        hfvae_loss = hfvae_model.train(hf_trn_data, epochs=1000)\n",
    "\n",
    "        # claim and train bf-vae\n",
    "        hf_trn_data = xH[hf_trn_idx]\n",
    "        lf_trn_data = xL[hf_trn_idx]\n",
    "        bf_trn_data = BFDataset(lf_trn_data, hf_trn_data)\n",
    "        bfvae_model = BFVAE(lfvae_model)\n",
    "        bfvae_loss = bfvae_model.train(bf_trn_data, epochs=1000)\n",
    "\n",
    "        ## Compute MMD result\n",
    "        # HF-VAE\n",
    "        hf_gen = hfvae_model.sample(1000)\n",
    "        hf_mmd += MMD(hf_gen, xH_tst, mmd_para)\n",
    "\n",
    "        # BF-VAE\n",
    "        bf_gen = bfvae_model.sample(1000)\n",
    "        bf_mmd += MMD(bf_gen, xH_tst, mmd_para)\n",
    "        \n",
    "    hf_mmd_lst.append(hf_mmd/num_trial)\n",
    "    bf_mmd_lst.append(bf_mmd/num_trial)"
   ]
  },
  {
   "cell_type": "code",
   "execution_count": 12,
   "metadata": {},
   "outputs": [
    {
     "data": {
      "image/png": "[encoded data removed]",
      "text/plain": [
       "<Figure size 432x288 with 1 Axes>"
      ]
     },
     "metadata": {
      "needs_background": "light"
     },
     "output_type": "display_data"
    }
   ],
   "source": [
    "plt.plot(hf_size_lst, hf_mmd_lst, 'o' ,c='b', label='HF-VAE', alpha=0.8)\n",
    "plt.plot(hf_size_lst, bf_mmd_lst, 'o' ,c='y', label='BF-VAE', alpha=0.8)\n",
    "plt.legend()\n",
    "plt.xscale('log')\n",
    "plt.yscale('log')"
   ]
  }
 ],
 "metadata": {
  "kernelspec": {
   "display_name": "Python 3",
   "language": "python",
   "name": "python3"
  },
  "language_info": {
   "codemirror_mode": {
    "name": "ipython",
    "version": 3
   },
   "file_extension": ".py",
   "mimetype": "text/x-python",
   "name": "python",
   "nbconvert_exporter": "python",
   "pygments_lexer": "ipython3",
   "version": "3.8.5"
  }
 },
 "nbformat": 4,
 "nbformat_minor": 4
}
