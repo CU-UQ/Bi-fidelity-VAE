{
 "cells": [
  {
   "cell_type": "code",
   "execution_count": 13,
   "metadata": {},
   "outputs": [],
   "source": [
    "import torch\n",
    "import numpy as np\n",
    "import matplotlib.pyplot as plt\n",
    "from torch.utils.data import DataLoader\n",
    "from models import BFDataset, VAE, BFVAE\n",
    "from MMD_func import MMD_U as MMD\n",
    "rng = np.random.default_rng()"
   ]
  },
  {
   "cell_type": "code",
   "execution_count": 14,
   "metadata": {},
   "outputs": [],
   "source": [
    "# import training and test data\n",
    "file = np.load('../Data/cavity-data.npz')\n",
    "LF, HF = file['cav_yL'], file['cav_yH']\n",
    "xL_trn = torch.from_numpy(LF[:4000]).type(torch.FloatTensor)\n",
    "xL = torch.from_numpy(LF[:8000]).type(torch.FloatTensor)\n",
    "xH = torch.from_numpy(HF[:8000]).type(torch.FloatTensor)\n",
    "xH_tst = torch.from_numpy(HF[8000: 9000]).type(torch.FloatTensor)"
   ]
  },
  {
   "cell_type": "code",
   "execution_count": 16,
   "metadata": {},
   "outputs": [
    {
     "name": "stderr",
     "output_type": "stream",
     "text": [
      "100%|██████████| 2000/2000 [08:36<00:00,  3.87 Epoch/s, loss=446.8109] \n"
     ]
    }
   ],
   "source": [
    "## Universal hyper-para\n",
    "_,input_dim = xH_tst.shape\n",
    "batch_size = 64\n",
    "tst_size = 1000\n",
    "mmd_para = [0.2, 0.5, 1.0, 2.0, 5.0]\n",
    "latent_dim = 4\n",
    "hidden_dims = [128, 64, 16]\n",
    "beta = 4.5\n",
    "num_trial = 5\n",
    "hf_size_lst = [2, 5, 7, 10, 50, 100, 500, 1000, 5000]\n",
    "\n",
    "\n",
    "# claim and train lf-vae\n",
    "lfvae_model = VAE(input_dim, latent_dim, hidden_dims, beta)\n",
    "lfvae_loss = lfvae_model.train(xL_trn, epochs=2000)"
   ]
  },
  {
   "cell_type": "code",
   "execution_count": 17,
   "metadata": {},
   "outputs": [
    {
     "name": "stderr",
     "output_type": "stream",
     "text": [
      "100%|██████████| 1000/1000 [00:03<00:00, 321.65 Epoch/s, loss=6093.4365]\n",
      "100%|██████████| 1000/1000 [00:01<00:00, 575.55 Epoch/s, loss=1.4646246]\n",
      "100%|██████████| 1000/1000 [00:02<00:00, 357.44 Epoch/s, loss=18196.445]\n",
      "100%|██████████| 1000/1000 [00:01<00:00, 668.87 Epoch/s, loss=51.078766]\n",
      "100%|██████████| 1000/1000 [00:02<00:00, 364.26 Epoch/s, loss=3397.4673]\n",
      "100%|██████████| 1000/1000 [00:01<00:00, 638.07 Epoch/s, loss=7.886466]\n",
      "100%|██████████| 1000/1000 [00:03<00:00, 294.43 Epoch/s, loss=3244.562]\n",
      "100%|██████████| 1000/1000 [00:01<00:00, 511.23 Epoch/s, loss=4.3917556]\n",
      "100%|██████████| 1000/1000 [00:02<00:00, 373.33 Epoch/s, loss=12762.512]\n",
      "100%|██████████| 1000/1000 [00:01<00:00, 553.40 Epoch/s, loss=7.670998]\n",
      "100%|██████████| 1000/1000 [00:03<00:00, 310.79 Epoch/s, loss=8697.625] \n",
      "100%|██████████| 1000/1000 [00:01<00:00, 560.09 Epoch/s, loss=11.347399]\n",
      "100%|██████████| 1000/1000 [00:03<00:00, 313.08 Epoch/s, loss=42236.58]\n",
      "100%|██████████| 1000/1000 [00:02<00:00, 372.85 Epoch/s, loss=25.8747]  \n",
      "100%|██████████| 1000/1000 [00:04<00:00, 208.44 Epoch/s, loss=52173.812]\n",
      "100%|██████████| 1000/1000 [00:02<00:00, 445.56 Epoch/s, loss=22.764954]\n",
      "100%|██████████| 1000/1000 [00:03<00:00, 319.97 Epoch/s, loss=72351.055]\n",
      "100%|██████████| 1000/1000 [00:02<00:00, 456.38 Epoch/s, loss=17.625687]\n",
      "100%|██████████| 1000/1000 [00:04<00:00, 245.39 Epoch/s, loss=35015.94] \n",
      "100%|██████████| 1000/1000 [00:02<00:00, 460.65 Epoch/s, loss=13.910909]\n",
      "100%|██████████| 1000/1000 [00:03<00:00, 255.88 Epoch/s, loss=40883.637]\n",
      "100%|██████████| 1000/1000 [00:02<00:00, 360.26 Epoch/s, loss=29.576464]\n",
      "100%|██████████| 1000/1000 [00:04<00:00, 225.29 Epoch/s, loss=81489.13]\n",
      "100%|██████████| 1000/1000 [00:02<00:00, 357.41 Epoch/s, loss=21.276733]\n",
      "100%|██████████| 1000/1000 [00:04<00:00, 232.11 Epoch/s, loss=57626.03]\n",
      "100%|██████████| 1000/1000 [00:02<00:00, 455.88 Epoch/s, loss=10.108971]\n",
      "100%|██████████| 1000/1000 [00:03<00:00, 264.21 Epoch/s, loss=23238.873]\n",
      "100%|██████████| 1000/1000 [00:02<00:00, 476.27 Epoch/s, loss=8.549583]\n",
      "100%|██████████| 1000/1000 [00:03<00:00, 266.17 Epoch/s, loss=85282.7] \n",
      "100%|██████████| 1000/1000 [00:02<00:00, 419.74 Epoch/s, loss=15.349796]\n",
      "100%|██████████| 1000/1000 [00:04<00:00, 235.00 Epoch/s, loss=90459.086]\n",
      "100%|██████████| 1000/1000 [00:02<00:00, 444.60 Epoch/s, loss=18.140694]\n",
      "100%|██████████| 1000/1000 [00:03<00:00, 300.51 Epoch/s, loss=120515.69]\n",
      "100%|██████████| 1000/1000 [00:02<00:00, 461.95 Epoch/s, loss=28.676727]\n",
      "100%|██████████| 1000/1000 [00:04<00:00, 236.89 Epoch/s, loss=23274.73]\n",
      "100%|██████████| 1000/1000 [00:02<00:00, 448.20 Epoch/s, loss=14.20402] \n",
      "100%|██████████| 1000/1000 [00:03<00:00, 296.53 Epoch/s, loss=105654.91]\n",
      "100%|██████████| 1000/1000 [00:02<00:00, 436.87 Epoch/s, loss=17.921776]\n",
      "100%|██████████| 1000/1000 [00:04<00:00, 228.59 Epoch/s, loss=132179.67]\n",
      "100%|██████████| 1000/1000 [00:02<00:00, 450.15 Epoch/s, loss=34.712193]\n",
      "100%|██████████| 1000/1000 [00:04<00:00, 207.92 Epoch/s, loss=630404.7]\n",
      "100%|██████████| 1000/1000 [00:02<00:00, 336.01 Epoch/s, loss=18.434574]\n",
      "100%|██████████| 1000/1000 [00:05<00:00, 176.72 Epoch/s, loss=309821.9]\n",
      "100%|██████████| 1000/1000 [00:02<00:00, 335.46 Epoch/s, loss=13.18258] \n",
      "100%|██████████| 1000/1000 [00:04<00:00, 203.68 Epoch/s, loss=398380.56]\n",
      "100%|██████████| 1000/1000 [00:03<00:00, 331.54 Epoch/s, loss=12.498508]\n",
      "100%|██████████| 1000/1000 [00:05<00:00, 179.58 Epoch/s, loss=441126.2]\n",
      "100%|██████████| 1000/1000 [00:02<00:00, 333.42 Epoch/s, loss=18.944958]\n",
      "100%|██████████| 1000/1000 [00:04<00:00, 210.26 Epoch/s, loss=540565.1]\n",
      "100%|██████████| 1000/1000 [00:02<00:00, 334.01 Epoch/s, loss=18.59516] \n",
      "100%|██████████| 1000/1000 [00:09<00:00, 102.70 Epoch/s, loss=565.1869]\n",
      "100%|██████████| 1000/1000 [00:04<00:00, 208.63 Epoch/s, loss=0.030592652]\n",
      "100%|██████████| 1000/1000 [00:08<00:00, 120.89 Epoch/s, loss=365.16705]\n",
      "100%|██████████| 1000/1000 [00:04<00:00, 204.38 Epoch/s, loss=0.025547441]\n",
      "100%|██████████| 1000/1000 [00:09<00:00, 103.40 Epoch/s, loss=371.35736]\n",
      "100%|██████████| 1000/1000 [00:04<00:00, 203.41 Epoch/s, loss=0.027966937]\n",
      "100%|██████████| 1000/1000 [00:08<00:00, 117.40 Epoch/s, loss=476.41675]\n",
      "100%|██████████| 1000/1000 [00:04<00:00, 204.78 Epoch/s, loss=0.02978975]\n",
      "100%|██████████| 1000/1000 [00:09<00:00, 101.28 Epoch/s, loss=367.18488]\n",
      "100%|██████████| 1000/1000 [00:04<00:00, 204.77 Epoch/s, loss=0.023011405]\n",
      "100%|██████████| 1000/1000 [00:29<00:00, 33.70 Epoch/s, loss=351.24197]\n",
      "100%|██████████| 1000/1000 [00:17<00:00, 58.79 Epoch/s, loss=0.018595967]\n",
      "100%|██████████| 1000/1000 [00:36<00:00, 27.62 Epoch/s, loss=297.2873]\n",
      "100%|██████████| 1000/1000 [00:17<00:00, 55.72 Epoch/s, loss=0.017194068]\n",
      "100%|██████████| 1000/1000 [00:27<00:00, 35.85 Epoch/s, loss=350.6598]\n",
      "100%|██████████| 1000/1000 [00:16<00:00, 60.66 Epoch/s, loss=0.017026639]\n",
      "100%|██████████| 1000/1000 [00:37<00:00, 26.74 Epoch/s, loss=362.2565]\n",
      "100%|██████████| 1000/1000 [00:18<00:00, 53.85 Epoch/s, loss=0.016324805]\n",
      "100%|██████████| 1000/1000 [00:33<00:00, 30.02 Epoch/s, loss=317.00613]\n",
      "100%|██████████| 1000/1000 [00:18<00:00, 54.89 Epoch/s, loss=0.016938554]\n",
      "100%|██████████| 1000/1000 [01:14<00:00, 13.46 Epoch/s, loss=328.0852]\n",
      "100%|██████████| 1000/1000 [00:34<00:00, 29.16 Epoch/s, loss=0.015918648]\n",
      "100%|██████████| 1000/1000 [01:01<00:00, 16.15 Epoch/s, loss=303.9698]\n",
      "100%|██████████| 1000/1000 [00:34<00:00, 28.82 Epoch/s, loss=0.01636463] \n",
      "100%|██████████| 1000/1000 [01:15<00:00, 13.28 Epoch/s, loss=311.4401]\n",
      "100%|██████████| 1000/1000 [00:34<00:00, 29.14 Epoch/s, loss=0.017005892]\n",
      "100%|██████████| 1000/1000 [01:05<00:00, 15.28 Epoch/s, loss=280.04956]\n",
      "100%|██████████| 1000/1000 [00:34<00:00, 29.22 Epoch/s, loss=0.015595117]\n",
      "100%|██████████| 1000/1000 [01:09<00:00, 14.46 Epoch/s, loss=308.29016]\n",
      "100%|██████████| 1000/1000 [00:31<00:00, 31.36 Epoch/s, loss=0.015783543]\n",
      "100%|██████████| 1000/1000 [04:28<00:00,  3.72 Epoch/s, loss=288.263] \n",
      "100%|██████████| 1000/1000 [02:31<00:00,  6.60 Epoch/s, loss=0.01534144] \n",
      "100%|██████████| 1000/1000 [05:21<00:00,  3.11 Epoch/s, loss=299.34167]\n",
      "100%|██████████| 1000/1000 [02:38<00:00,  6.30 Epoch/s, loss=0.015436895]\n",
      "100%|██████████| 1000/1000 [04:36<00:00,  3.62 Epoch/s, loss=291.49902]\n",
      "100%|██████████| 1000/1000 [02:25<00:00,  6.88 Epoch/s, loss=0.014747712]\n",
      "100%|██████████| 1000/1000 [05:13<00:00,  3.19 Epoch/s, loss=308.31683]\n",
      "100%|██████████| 1000/1000 [02:26<00:00,  6.83 Epoch/s, loss=0.015646074]\n",
      "100%|██████████| 1000/1000 [04:17<00:00,  3.89 Epoch/s, loss=310.215] \n",
      "100%|██████████| 1000/1000 [02:24<00:00,  6.92 Epoch/s, loss=0.015693495]\n"
     ]
    }
   ],
   "source": [
    "hf_mmd_lst, bf_mmd_lst = [], []\n",
    "for hf_size in hf_size_lst:\n",
    "    hf_mmd, bf_mmd = [], []\n",
    "    for _ in range(num_trial):      \n",
    "        # claim and train hf-vae\n",
    "        hf_trn_idx = rng.choice(8000, hf_size, replace=False)\n",
    "        hf_trn_data = xH[hf_trn_idx]\n",
    "        hfvae_model = VAE(input_dim, latent_dim, hidden_dims, beta)\n",
    "        hfvae_loss = hfvae_model.train(hf_trn_data, epochs=1000)\n",
    "\n",
    "        # claim and train bf-vae\n",
    "        hf_trn_data = xH[hf_trn_idx]\n",
    "        lf_trn_data = xL[hf_trn_idx]\n",
    "        bf_trn_data = BFDataset(lf_trn_data, hf_trn_data)\n",
    "        bfvae_model = BFVAE(lfvae_model)\n",
    "        bfvae_loss = bfvae_model.train(bf_trn_data, epochs=1000)\n",
    "\n",
    "        ## Compute MMD result\n",
    "        # HF-VAE\n",
    "        hf_gen = hfvae_model.sample(1000)\n",
    "        hf_mmd.append(MMD(hf_gen, xH_tst, mmd_para)) \n",
    "\n",
    "        # BF-VAE\n",
    "        bf_gen = bfvae_model.sample(1000)\n",
    "        bf_mmd.append(MMD(bf_gen, xH_tst, mmd_para)) \n",
    "        \n",
    "    hf_mmd_lst.append(hf_mmd)\n",
    "    bf_mmd_lst.append(bf_mmd)"
   ]
  },
  {
   "cell_type": "code",
   "execution_count": 18,
   "metadata": {},
   "outputs": [
    {
     "data": {
      "image/png": "[encoded data removed]",
      "text/plain": [
       "<Figure size 432x288 with 1 Axes>"
      ]
     },
     "metadata": {
      "needs_background": "light"
     },
     "output_type": "display_data"
    }
   ],
   "source": [
    "scale = 0.5\n",
    "hf_mean, bf_mean = np.mean(hf_mmd_lst, axis=1), np.mean(bf_mmd_lst, axis=1)\n",
    "hf_std, bf_std = np.std(hf_mmd_lst, axis=1), np.std(bf_mmd_lst, axis=1)\n",
    "plt.plot(hf_size_lst, hf_mean, 'o' ,c='b', label='HF-VAE', alpha=0.8)\n",
    "plt.fill_between(hf_size_lst, hf_mean - scale * hf_std, hf_mean + scale * hf_std, color='b', alpha=0.4)\n",
    "plt.plot(hf_size_lst, bf_mean, 'o' ,c='y', label='BF-VAE', alpha=0.8)\n",
    "plt.fill_between(hf_size_lst, bf_mean - scale * bf_std, bf_mean + scale * bf_std, color='y', alpha=0.4)\n",
    "plt.legend()\n",
    "plt.xscale('log')\n",
    "plt.yscale('log')"
   ]
  },
  {
   "cell_type": "code",
   "execution_count": null,
   "metadata": {},
   "outputs": [],
   "source": []
  }
 ],
 "metadata": {
  "kernelspec": {
   "display_name": "Python 3",
   "language": "python",
   "name": "python3"
  },
  "language_info": {
   "codemirror_mode": {
    "name": "ipython",
    "version": 3
   },
   "file_extension": ".py",
   "mimetype": "text/x-python",
   "name": "python",
   "nbconvert_exporter": "python",
   "pygments_lexer": "ipython3",
   "version": "3.8.5"
  }
 },
 "nbformat": 4,
 "nbformat_minor": 4
}
