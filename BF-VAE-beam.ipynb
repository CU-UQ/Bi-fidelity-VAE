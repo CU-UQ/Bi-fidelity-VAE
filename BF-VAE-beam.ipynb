{
 "cells": [
  {
   "cell_type": "code",
   "execution_count": 30,
   "metadata": {},
   "outputs": [],
   "source": [
    "import torch\n",
    "import numpy as np\n",
    "import matplotlib.pyplot as plt\n",
    "from torch.utils.data import DataLoader\n",
    "from models import BFDataset, VAE, BFVAE\n",
    "from MMD_func import MMD_U as MMD\n",
    "rng = np.random.default_rng()"
   ]
  },
  {
   "cell_type": "code",
   "execution_count": 31,
   "metadata": {},
   "outputs": [],
   "source": [
    "# import training and test data\n",
    "path = '../Data/beam_data.npz'\n",
    "file = np.load(path)\n",
    "idx = np.linspace(0, 512, 128).astype('int')\n",
    "xL_trn = torch.from_numpy(file['beam_yL'][:4000,idx]).type(torch.FloatTensor)\n",
    "xL = torch.from_numpy(file['beam_yL'][:9000,idx]).type(torch.FloatTensor)\n",
    "xH = torch.from_numpy(file['beam_yH'][:9000,idx]).type(torch.FloatTensor)\n",
    "xH_tst = torch.from_numpy(file['beam_yH'][9000: 10000,idx]).type(torch.FloatTensor)"
   ]
  },
  {
   "cell_type": "code",
   "execution_count": 32,
   "metadata": {},
   "outputs": [
    {
     "name": "stderr",
     "output_type": "stream",
     "text": [
      "100%|██████████| 2000/2000 [05:00<00:00,  6.66 Epoch/s, loss=86.30428] \n"
     ]
    }
   ],
   "source": [
    "## Universal hyper-para\n",
    "_,input_dim = xH_tst.shape\n",
    "batch_size = 64\n",
    "tst_size = 1000\n",
    "mmd_para = [0.2, 0.5, 1.0, 2.0, 5.0]\n",
    "latent_dim = 4\n",
    "hidden_dims = [64, 16]\n",
    "beta = 1.25\n",
    "num_trial = 5\n",
    "hf_size_lst = [2, 5, 7, 10, 50, 100, 500, 1000, 5000]\n",
    "\n",
    "\n",
    "# claim and train lf-vae\n",
    "lfvae_model = VAE(input_dim, latent_dim, hidden_dims, beta)\n",
    "lfvae_loss = lfvae_model.train(xL_trn, epochs=2000)"
   ]
  },
  {
   "cell_type": "code",
   "execution_count": 33,
   "metadata": {},
   "outputs": [
    {
     "name": "stderr",
     "output_type": "stream",
     "text": [
      "100%|██████████| 1000/1000 [00:01<00:00, 510.65 Epoch/s, loss=141666.52]\n",
      "100%|██████████| 1000/1000 [00:01<00:00, 748.38 Epoch/s, loss=37.42923] \n",
      "100%|██████████| 1000/1000 [00:02<00:00, 465.64 Epoch/s, loss=95259.36]\n",
      "100%|██████████| 1000/1000 [00:01<00:00, 733.43 Epoch/s, loss=7.5766845]\n",
      "100%|██████████| 1000/1000 [00:01<00:00, 510.62 Epoch/s, loss=152916.5] \n",
      "100%|██████████| 1000/1000 [00:01<00:00, 578.86 Epoch/s, loss=36.742687]\n",
      "100%|██████████| 1000/1000 [00:02<00:00, 451.63 Epoch/s, loss=91613.37]\n",
      "100%|██████████| 1000/1000 [00:01<00:00, 701.60 Epoch/s, loss=13.720645]\n",
      "100%|██████████| 1000/1000 [00:01<00:00, 507.71 Epoch/s, loss=120765.375]\n",
      "100%|██████████| 1000/1000 [00:01<00:00, 697.12 Epoch/s, loss=6.726311]\n",
      "100%|██████████| 1000/1000 [00:02<00:00, 454.27 Epoch/s, loss=234501.89]\n",
      "100%|██████████| 1000/1000 [00:01<00:00, 680.79 Epoch/s, loss=45.595455]\n",
      "100%|██████████| 1000/1000 [00:02<00:00, 496.36 Epoch/s, loss=345307.62]\n",
      "100%|██████████| 1000/1000 [00:01<00:00, 667.61 Epoch/s, loss=51.908825]\n",
      "100%|██████████| 1000/1000 [00:02<00:00, 453.31 Epoch/s, loss=301719.1]\n",
      "100%|██████████| 1000/1000 [00:01<00:00, 677.73 Epoch/s, loss=37.14459]\n",
      "100%|██████████| 1000/1000 [00:02<00:00, 486.49 Epoch/s, loss=363593.47]\n",
      "100%|██████████| 1000/1000 [00:01<00:00, 647.92 Epoch/s, loss=27.437288]\n",
      "100%|██████████| 1000/1000 [00:02<00:00, 442.41 Epoch/s, loss=262608.88]\n",
      "100%|██████████| 1000/1000 [00:01<00:00, 670.16 Epoch/s, loss=28.402756]\n",
      "100%|██████████| 1000/1000 [00:02<00:00, 471.56 Epoch/s, loss=443935.7]\n",
      "100%|██████████| 1000/1000 [00:01<00:00, 667.12 Epoch/s, loss=32.569157]\n",
      "100%|██████████| 1000/1000 [00:02<00:00, 431.73 Epoch/s, loss=372337.5]\n",
      "100%|██████████| 1000/1000 [00:01<00:00, 657.15 Epoch/s, loss=22.792698]\n",
      "100%|██████████| 1000/1000 [00:02<00:00, 469.08 Epoch/s, loss=424791.03]\n",
      "100%|██████████| 1000/1000 [00:01<00:00, 664.24 Epoch/s, loss=33.9637] \n",
      "100%|██████████| 1000/1000 [00:02<00:00, 434.19 Epoch/s, loss=325302.94]\n",
      "100%|██████████| 1000/1000 [00:01<00:00, 665.06 Epoch/s, loss=38.305183]\n",
      "100%|██████████| 1000/1000 [00:02<00:00, 462.59 Epoch/s, loss=389834.56]\n",
      "100%|██████████| 1000/1000 [00:01<00:00, 651.18 Epoch/s, loss=9.393183]\n",
      "100%|██████████| 1000/1000 [00:02<00:00, 351.89 Epoch/s, loss=419062.97]\n",
      "100%|██████████| 1000/1000 [00:01<00:00, 608.12 Epoch/s, loss=24.470814]\n",
      "100%|██████████| 1000/1000 [00:02<00:00, 460.05 Epoch/s, loss=637812.6]\n",
      "100%|██████████| 1000/1000 [00:01<00:00, 614.99 Epoch/s, loss=44.34329]\n",
      "100%|██████████| 1000/1000 [00:02<00:00, 381.38 Epoch/s, loss=424141.47]\n",
      "100%|██████████| 1000/1000 [00:01<00:00, 609.07 Epoch/s, loss=42.78781]\n",
      "100%|██████████| 1000/1000 [00:02<00:00, 457.57 Epoch/s, loss=576760.3]\n",
      "100%|██████████| 1000/1000 [00:01<00:00, 613.48 Epoch/s, loss=34.22886] \n",
      "100%|██████████| 1000/1000 [00:02<00:00, 380.14 Epoch/s, loss=418140.44]\n",
      "100%|██████████| 1000/1000 [00:01<00:00, 614.54 Epoch/s, loss=42.55912]\n",
      "100%|██████████| 1000/1000 [00:02<00:00, 350.10 Epoch/s, loss=2880927.0]\n",
      "100%|██████████| 1000/1000 [00:02<00:00, 488.38 Epoch/s, loss=35.302826]\n",
      "100%|██████████| 1000/1000 [00:03<00:00, 315.57 Epoch/s, loss=2263352.5]\n",
      "100%|██████████| 1000/1000 [00:02<00:00, 487.11 Epoch/s, loss=42.160034]\n",
      "100%|██████████| 1000/1000 [00:02<00:00, 348.02 Epoch/s, loss=2758776.8]\n",
      "100%|██████████| 1000/1000 [00:02<00:00, 478.59 Epoch/s, loss=40.81481]\n",
      "100%|██████████| 1000/1000 [00:03<00:00, 306.77 Epoch/s, loss=2061129.0]\n",
      "100%|██████████| 1000/1000 [00:02<00:00, 411.46 Epoch/s, loss=35.858536]\n",
      "100%|██████████| 1000/1000 [00:02<00:00, 342.48 Epoch/s, loss=2519158.5]\n",
      "100%|██████████| 1000/1000 [00:02<00:00, 484.19 Epoch/s, loss=44.499542]\n",
      "100%|██████████| 1000/1000 [00:05<00:00, 191.61 Epoch/s, loss=737.0822] \n",
      "100%|██████████| 1000/1000 [00:03<00:00, 300.02 Epoch/s, loss=0.039492812]\n",
      "100%|██████████| 1000/1000 [00:04<00:00, 225.78 Epoch/s, loss=666.99023]\n",
      "100%|██████████| 1000/1000 [00:03<00:00, 317.72 Epoch/s, loss=0.035616077]\n",
      "100%|██████████| 1000/1000 [00:05<00:00, 179.53 Epoch/s, loss=286.9144] \n",
      "100%|██████████| 1000/1000 [00:03<00:00, 282.10 Epoch/s, loss=0.03677467]\n",
      "100%|██████████| 1000/1000 [00:04<00:00, 220.52 Epoch/s, loss=604.8017] \n",
      "100%|██████████| 1000/1000 [00:03<00:00, 305.22 Epoch/s, loss=0.036738258]\n",
      "100%|██████████| 1000/1000 [00:05<00:00, 182.19 Epoch/s, loss=335.962]  \n",
      "100%|██████████| 1000/1000 [00:03<00:00, 315.24 Epoch/s, loss=0.030184884]\n",
      "100%|██████████| 1000/1000 [00:16<00:00, 62.23 Epoch/s, loss=143.53119]\n",
      "100%|██████████| 1000/1000 [00:10<00:00, 97.08 Epoch/s, loss=0.022127874]\n",
      "100%|██████████| 1000/1000 [00:18<00:00, 53.04 Epoch/s, loss=173.26851]\n",
      "100%|██████████| 1000/1000 [00:10<00:00, 96.90 Epoch/s, loss=0.021406967]\n",
      "100%|██████████| 1000/1000 [00:15<00:00, 62.57 Epoch/s, loss=185.34097]\n",
      "100%|██████████| 1000/1000 [00:10<00:00, 97.94 Epoch/s, loss=0.021061998]\n",
      "100%|██████████| 1000/1000 [00:18<00:00, 53.17 Epoch/s, loss=185.78989]\n",
      "100%|██████████| 1000/1000 [00:10<00:00, 95.24 Epoch/s, loss=0.023272488]\n",
      "100%|██████████| 1000/1000 [00:16<00:00, 62.40 Epoch/s, loss=162.37485]\n",
      "100%|██████████| 1000/1000 [00:10<00:00, 99.32 Epoch/s, loss=0.023992227]\n",
      "100%|██████████| 1000/1000 [00:36<00:00, 27.28 Epoch/s, loss=136.55962]\n",
      "100%|██████████| 1000/1000 [00:19<00:00, 51.44 Epoch/s, loss=0.019968353]\n",
      "100%|██████████| 1000/1000 [00:30<00:00, 32.48 Epoch/s, loss=137.51982]\n",
      "100%|██████████| 1000/1000 [00:19<00:00, 51.01 Epoch/s, loss=0.02081946]\n",
      "100%|██████████| 1000/1000 [00:36<00:00, 27.25 Epoch/s, loss=154.24321]\n",
      "100%|██████████| 1000/1000 [00:19<00:00, 50.71 Epoch/s, loss=0.019233877]\n",
      "100%|██████████| 1000/1000 [00:30<00:00, 32.86 Epoch/s, loss=150.61784]\n",
      "100%|██████████| 1000/1000 [00:19<00:00, 51.20 Epoch/s, loss=0.021484062]\n",
      "100%|██████████| 1000/1000 [00:36<00:00, 27.53 Epoch/s, loss=135.89328]\n",
      "100%|██████████| 1000/1000 [00:19<00:00, 51.38 Epoch/s, loss=0.019846868]\n",
      "100%|██████████| 1000/1000 [02:25<00:00,  6.90 Epoch/s, loss=132.90504]\n",
      "100%|██████████| 1000/1000 [01:30<00:00, 11.01 Epoch/s, loss=0.018873094]\n",
      "100%|██████████| 1000/1000 [02:50<00:00,  5.85 Epoch/s, loss=130.6907]\n",
      "100%|██████████| 1000/1000 [01:31<00:00, 10.96 Epoch/s, loss=0.019291889]\n",
      "100%|██████████| 1000/1000 [02:27<00:00,  6.80 Epoch/s, loss=130.4021]\n",
      "100%|██████████| 1000/1000 [01:31<00:00, 10.96 Epoch/s, loss=0.019903159]\n",
      "100%|██████████| 1000/1000 [02:52<00:00,  5.81 Epoch/s, loss=131.95882]\n",
      "100%|██████████| 1000/1000 [01:30<00:00, 11.08 Epoch/s, loss=0.020019405]\n",
      "100%|██████████| 1000/1000 [02:25<00:00,  6.88 Epoch/s, loss=134.63425]\n",
      "100%|██████████| 1000/1000 [01:45<00:00,  9.48 Epoch/s, loss=0.01940911]\n"
     ]
    }
   ],
   "source": [
    "hf_mmd_lst, bf_mmd_lst = [], []\n",
    "for hf_size in hf_size_lst:\n",
    "    hf_mmd, bf_mmd = [], []\n",
    "    for _ in range(num_trial):      \n",
    "        # claim and train hf-vae\n",
    "        hf_trn_idx = rng.choice(8000, hf_size, replace=False)\n",
    "        hf_trn_data = xH[hf_trn_idx]\n",
    "        hfvae_model = VAE(input_dim, latent_dim, hidden_dims, beta)\n",
    "        hfvae_loss = hfvae_model.train(hf_trn_data, epochs=1000)\n",
    "\n",
    "        # claim and train bf-vae\n",
    "        hf_trn_data = xH[hf_trn_idx]\n",
    "        lf_trn_data = xL[hf_trn_idx]\n",
    "        bf_trn_data = BFDataset(lf_trn_data, hf_trn_data)\n",
    "        bfvae_model = BFVAE(lfvae_model)\n",
    "        bfvae_loss = bfvae_model.train(bf_trn_data, epochs=1000)\n",
    "\n",
    "        ## Compute MMD result\n",
    "        # HF-VAE\n",
    "        hf_gen = hfvae_model.sample(1000)\n",
    "        hf_mmd.append(MMD(hf_gen, xH_tst, mmd_para)) \n",
    "\n",
    "        # BF-VAE\n",
    "        bf_gen = bfvae_model.sample(1000)\n",
    "        bf_mmd.append(MMD(bf_gen, xH_tst, mmd_para)) \n",
    "        \n",
    "    hf_mmd_lst.append(hf_mmd)\n",
    "    bf_mmd_lst.append(bf_mmd)"
   ]
  },
  {
   "cell_type": "code",
   "execution_count": 34,
   "metadata": {},
   "outputs": [
    {
     "data": {
      "image/png": "[encoded data removed]",
      "text/plain": [
       "<Figure size 432x288 with 1 Axes>"
      ]
     },
     "metadata": {
      "needs_background": "light"
     },
     "output_type": "display_data"
    }
   ],
   "source": [
    "scale = 0.5\n",
    "hf_mean, bf_mean = np.mean(hf_mmd_lst, axis=1), np.mean(bf_mmd_lst, axis=1)\n",
    "hf_std, bf_std = np.std(hf_mmd_lst, axis=1), np.std(bf_mmd_lst, axis=1)\n",
    "plt.plot(hf_size_lst, hf_mean, 'o' ,c='b', label='HF-VAE', alpha=0.8)\n",
    "plt.fill_between(hf_size_lst, hf_mean - scale * hf_std, hf_mean + scale * hf_std, color='b', alpha=0.4)\n",
    "plt.plot(hf_size_lst, bf_mean, 'o' ,c='y', label='BF-VAE', alpha=0.8)\n",
    "plt.fill_between(hf_size_lst, bf_mean - scale * bf_std, bf_mean + scale * bf_std, color='y', alpha=0.4)\n",
    "plt.legend()\n",
    "plt.xscale('log')\n",
    "plt.yscale('log')"
   ]
  },
  {
   "cell_type": "code",
   "execution_count": null,
   "metadata": {},
   "outputs": [],
   "source": []
  }
 ],
 "metadata": {
  "kernelspec": {
   "display_name": "Python 3",
   "language": "python",
   "name": "python3"
  },
  "language_info": {
   "codemirror_mode": {
    "name": "ipython",
    "version": 3
   },
   "file_extension": ".py",
   "mimetype": "text/x-python",
   "name": "python",
   "nbconvert_exporter": "python",
   "pygments_lexer": "ipython3",
   "version": "3.8.5"
  }
 },
 "nbformat": 4,
 "nbformat_minor": 4
}
