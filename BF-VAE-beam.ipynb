{
 "cells": [
  {
   "cell_type": "code",
   "execution_count": 1,
   "metadata": {},
   "outputs": [],
   "source": [
    "import torch\n",
    "import numpy as np\n",
    "import matplotlib.pyplot as plt\n",
    "from torch.utils.data import DataLoader\n",
    "from models import BFDataset, VAE, BFVAE\n",
    "from MMD_func import MMD_U as MMD\n",
    "rng = np.random.default_rng()"
   ]
  },
  {
   "cell_type": "code",
   "execution_count": 2,
   "metadata": {},
   "outputs": [],
   "source": [
    "# import training and test data\n",
    "path = '../Data/beam_data.npz'\n",
    "file = np.load(path)\n",
    "idx = np.linspace(0, 512, 128).astype('int')\n",
    "xL_trn = torch.from_numpy(file['beam_yL'][:4000,idx]).type(torch.FloatTensor)\n",
    "xL = torch.from_numpy(file['beam_yL'][:9000,idx]).type(torch.FloatTensor)\n",
    "xH = torch.from_numpy(file['beam_yH'][:9000,idx]).type(torch.FloatTensor)\n",
    "xH_tst = torch.from_numpy(file['beam_yH'][9000: 10000,idx]).type(torch.FloatTensor)"
   ]
  },
  {
   "cell_type": "code",
   "execution_count": 21,
   "metadata": {},
   "outputs": [
    {
     "name": "stderr",
     "output_type": "stream",
     "text": [
      "100%|██████████| 2000/2000 [05:00<00:00,  6.66 Epoch/s, loss=83.438]   \n"
     ]
    }
   ],
   "source": [
    "## Universal hyper-para\n",
    "_,input_dim = xH_tst.shape\n",
    "batch_size = 64\n",
    "tst_size = 1000\n",
    "mmd_para = [0.2, 0.5, 1.0, 2.0, 5.0]\n",
    "latent_dim = 4\n",
    "hidden_dims = [64, 16]\n",
    "beta = 1.25\n",
    "num_trial = 5\n",
    "hf_size_lst = [2, 5, 7, 10, 50, 100, 500, 1000, 5000]\n",
    "\n",
    "\n",
    "# claim and train lf-vae\n",
    "lfvae_model = VAE(input_dim, latent_dim, hidden_dims, beta)\n",
    "lfvae_loss = lfvae_model.train(xL_trn, epochs=2000)"
   ]
  },
  {
   "cell_type": "code",
   "execution_count": 23,
   "metadata": {},
   "outputs": [
    {
     "name": "stderr",
     "output_type": "stream",
     "text": [
      "100%|██████████| 1000/1000 [00:02<00:00, 419.00 Epoch/s, loss=143386.34]\n",
      "100%|██████████| 1000/1000 [00:01<00:00, 593.72 Epoch/s, loss=24.745218]\n",
      "100%|██████████| 1000/1000 [00:02<00:00, 379.02 Epoch/s, loss=104203.87]\n",
      "100%|██████████| 1000/1000 [00:01<00:00, 612.91 Epoch/s, loss=17.707294]\n",
      "100%|██████████| 1000/1000 [00:02<00:00, 483.52 Epoch/s, loss=153381.12]\n",
      "100%|██████████| 1000/1000 [00:01<00:00, 589.42 Epoch/s, loss=5.8541512]\n",
      "100%|██████████| 1000/1000 [00:02<00:00, 420.71 Epoch/s, loss=118149.11]\n",
      "100%|██████████| 1000/1000 [00:01<00:00, 708.61 Epoch/s, loss=34.31606]\n",
      "100%|██████████| 1000/1000 [00:02<00:00, 450.73 Epoch/s, loss=147229.78]\n",
      "100%|██████████| 1000/1000 [00:01<00:00, 612.08 Epoch/s, loss=24.921015]\n",
      "100%|██████████| 1000/1000 [00:02<00:00, 367.81 Epoch/s, loss=261186.36]\n",
      "100%|██████████| 1000/1000 [00:01<00:00, 673.96 Epoch/s, loss=43.062866]\n",
      "100%|██████████| 1000/1000 [00:02<00:00, 485.73 Epoch/s, loss=275103.34]\n",
      "100%|██████████| 1000/1000 [00:01<00:00, 680.97 Epoch/s, loss=15.331601]\n",
      "100%|██████████| 1000/1000 [00:02<00:00, 453.35 Epoch/s, loss=228220.92]\n",
      "100%|██████████| 1000/1000 [00:01<00:00, 686.66 Epoch/s, loss=18.85123] \n",
      "100%|██████████| 1000/1000 [00:02<00:00, 478.09 Epoch/s, loss=319503.47]\n",
      "100%|██████████| 1000/1000 [00:01<00:00, 647.24 Epoch/s, loss=32.74001]\n",
      "100%|██████████| 1000/1000 [00:02<00:00, 350.30 Epoch/s, loss=222773.28]\n",
      "100%|██████████| 1000/1000 [00:01<00:00, 600.33 Epoch/s, loss=25.36375] \n",
      "100%|██████████| 1000/1000 [00:02<00:00, 386.11 Epoch/s, loss=400413.88]\n",
      "100%|██████████| 1000/1000 [00:01<00:00, 607.48 Epoch/s, loss=30.210827]\n",
      "100%|██████████| 1000/1000 [00:02<00:00, 420.42 Epoch/s, loss=330198.88]\n",
      "100%|██████████| 1000/1000 [00:01<00:00, 654.24 Epoch/s, loss=34.185387]\n",
      "100%|██████████| 1000/1000 [00:02<00:00, 444.37 Epoch/s, loss=361880.94]\n",
      "100%|██████████| 1000/1000 [00:01<00:00, 639.65 Epoch/s, loss=29.544369]\n",
      "100%|██████████| 1000/1000 [00:02<00:00, 421.74 Epoch/s, loss=344829.72]\n",
      "100%|██████████| 1000/1000 [00:01<00:00, 650.78 Epoch/s, loss=34.5176] \n",
      "100%|██████████| 1000/1000 [00:02<00:00, 371.92 Epoch/s, loss=379463.22]\n",
      "100%|██████████| 1000/1000 [00:01<00:00, 587.52 Epoch/s, loss=63.64914]\n",
      "100%|██████████| 1000/1000 [00:02<00:00, 333.90 Epoch/s, loss=363356.78]\n",
      "100%|██████████| 1000/1000 [00:01<00:00, 572.34 Epoch/s, loss=41.3173] \n",
      "100%|██████████| 1000/1000 [00:03<00:00, 251.52 Epoch/s, loss=552983.5]\n",
      "100%|██████████| 1000/1000 [00:03<00:00, 300.07 Epoch/s, loss=25.286114]\n",
      "100%|██████████| 1000/1000 [00:04<00:00, 220.73 Epoch/s, loss=479676.44]\n",
      "100%|██████████| 1000/1000 [00:01<00:00, 505.72 Epoch/s, loss=26.145573]\n",
      "100%|██████████| 1000/1000 [00:02<00:00, 384.38 Epoch/s, loss=559606.56]\n",
      "100%|██████████| 1000/1000 [00:02<00:00, 497.80 Epoch/s, loss=16.961721]\n",
      "100%|██████████| 1000/1000 [00:03<00:00, 296.96 Epoch/s, loss=449418.56]\n",
      "100%|██████████| 1000/1000 [00:01<00:00, 506.94 Epoch/s, loss=38.193687]\n",
      "100%|██████████| 1000/1000 [00:03<00:00, 282.10 Epoch/s, loss=2963970.0]\n",
      "100%|██████████| 1000/1000 [00:02<00:00, 414.15 Epoch/s, loss=32.413055]\n",
      "100%|██████████| 1000/1000 [00:03<00:00, 262.34 Epoch/s, loss=2097499.8]\n",
      "100%|██████████| 1000/1000 [00:02<00:00, 406.36 Epoch/s, loss=37.968964]\n",
      "100%|██████████| 1000/1000 [00:03<00:00, 294.69 Epoch/s, loss=3246111.0]\n",
      "100%|██████████| 1000/1000 [00:02<00:00, 398.63 Epoch/s, loss=31.881641]\n",
      "100%|██████████| 1000/1000 [00:03<00:00, 264.12 Epoch/s, loss=1977022.2]\n",
      "100%|██████████| 1000/1000 [00:02<00:00, 393.99 Epoch/s, loss=40.343407]\n",
      "100%|██████████| 1000/1000 [00:03<00:00, 283.15 Epoch/s, loss=3083195.8]\n",
      "100%|██████████| 1000/1000 [00:02<00:00, 401.48 Epoch/s, loss=51.117817]\n",
      "100%|██████████| 1000/1000 [00:06<00:00, 160.16 Epoch/s, loss=578.7749] \n",
      "100%|██████████| 1000/1000 [00:03<00:00, 265.01 Epoch/s, loss=0.04090046]\n",
      "100%|██████████| 1000/1000 [00:05<00:00, 193.75 Epoch/s, loss=760.83777]\n",
      "100%|██████████| 1000/1000 [00:03<00:00, 265.21 Epoch/s, loss=0.03964021]\n",
      "100%|██████████| 1000/1000 [00:06<00:00, 158.85 Epoch/s, loss=745.16296]\n",
      "100%|██████████| 1000/1000 [00:04<00:00, 239.55 Epoch/s, loss=0.043471307]\n",
      "100%|██████████| 1000/1000 [00:05<00:00, 193.88 Epoch/s, loss=366.17657]\n",
      "100%|██████████| 1000/1000 [00:03<00:00, 291.30 Epoch/s, loss=0.03626232]\n",
      "100%|██████████| 1000/1000 [00:05<00:00, 180.31 Epoch/s, loss=309.14062]\n",
      "100%|██████████| 1000/1000 [00:03<00:00, 293.54 Epoch/s, loss=0.03412608]\n",
      "100%|██████████| 1000/1000 [00:16<00:00, 60.23 Epoch/s, loss=150.3299]\n",
      "100%|██████████| 1000/1000 [00:12<00:00, 80.01 Epoch/s, loss=0.021129586]\n",
      "100%|██████████| 1000/1000 [00:22<00:00, 45.33 Epoch/s, loss=159.64764]\n",
      "100%|██████████| 1000/1000 [00:11<00:00, 84.27 Epoch/s, loss=0.023401441]\n",
      "100%|██████████| 1000/1000 [00:19<00:00, 52.24 Epoch/s, loss=158.23459]\n",
      "100%|██████████| 1000/1000 [00:12<00:00, 82.31 Epoch/s, loss=0.023138631]\n",
      "100%|██████████| 1000/1000 [00:21<00:00, 46.22 Epoch/s, loss=150.77751]\n",
      "100%|██████████| 1000/1000 [00:11<00:00, 84.03 Epoch/s, loss=0.023247605]\n",
      "100%|██████████| 1000/1000 [00:19<00:00, 52.46 Epoch/s, loss=152.50346]\n",
      "100%|██████████| 1000/1000 [00:12<00:00, 82.44 Epoch/s, loss=0.022121115]\n",
      "100%|██████████| 1000/1000 [00:41<00:00, 24.17 Epoch/s, loss=145.60919]\n",
      "100%|██████████| 1000/1000 [00:22<00:00, 44.06 Epoch/s, loss=0.021317337]\n",
      "100%|██████████| 1000/1000 [00:36<00:00, 27.56 Epoch/s, loss=138.16449]\n",
      "100%|██████████| 1000/1000 [00:20<00:00, 47.89 Epoch/s, loss=0.021914499]\n",
      "100%|██████████| 1000/1000 [00:38<00:00, 25.86 Epoch/s, loss=142.29121]\n",
      "100%|██████████| 1000/1000 [00:24<00:00, 41.56 Epoch/s, loss=0.021135474]\n",
      "100%|██████████| 1000/1000 [00:32<00:00, 30.67 Epoch/s, loss=142.85791]\n",
      "100%|██████████| 1000/1000 [00:20<00:00, 49.90 Epoch/s, loss=0.020911241]\n",
      "100%|██████████| 1000/1000 [00:37<00:00, 26.75 Epoch/s, loss=147.01544]\n",
      "100%|██████████| 1000/1000 [00:21<00:00, 45.88 Epoch/s, loss=0.021043263]\n",
      "100%|██████████| 1000/1000 [02:59<00:00,  5.57 Epoch/s, loss=134.5958]\n",
      "100%|██████████| 1000/1000 [01:51<00:00,  8.98 Epoch/s, loss=0.019830283]\n",
      "100%|██████████| 1000/1000 [03:35<00:00,  4.64 Epoch/s, loss=136.07845]\n",
      "100%|██████████| 1000/1000 [01:38<00:00, 10.12 Epoch/s, loss=0.019989941]\n",
      "100%|██████████| 1000/1000 [02:47<00:00,  5.98 Epoch/s, loss=133.64142]\n",
      "100%|██████████| 1000/1000 [01:41<00:00,  9.84 Epoch/s, loss=0.020460352]\n",
      "100%|██████████| 1000/1000 [03:11<00:00,  5.21 Epoch/s, loss=134.096] \n",
      "100%|██████████| 1000/1000 [01:38<00:00, 10.13 Epoch/s, loss=0.02042174]\n",
      "100%|██████████| 1000/1000 [02:46<00:00,  5.99 Epoch/s, loss=129.96207]\n",
      "100%|██████████| 1000/1000 [01:37<00:00, 10.24 Epoch/s, loss=0.020059245]\n"
     ]
    }
   ],
   "source": [
    "hf_mmd_lst, bf_mmd_lst = [], []\n",
    "for hf_size in hf_size_lst:\n",
    "    hf_mmd, bf_mmd = 0, 0\n",
    "    for _ in range(num_trial):      \n",
    "        # claim and train hf-vae\n",
    "        hf_trn_idx = rng.choice(9000, hf_size, replace=False)\n",
    "        hf_trn_data = xH[hf_trn_idx]\n",
    "        hfvae_model = VAE(input_dim, latent_dim, hidden_dims, beta)\n",
    "        hfvae_loss = hfvae_model.train(hf_trn_data, epochs=1000)\n",
    "\n",
    "        # claim and train bf-vae\n",
    "        hf_trn_data = xH[hf_trn_idx]\n",
    "        lf_trn_data = xL[hf_trn_idx]\n",
    "        bf_trn_data = BFDataset(lf_trn_data, hf_trn_data)\n",
    "        bfvae_model = BFVAE(lfvae_model)\n",
    "        bfvae_loss = bfvae_model.train(bf_trn_data, epochs=1000)\n",
    "\n",
    "        ## Compute MMD result\n",
    "        # HF-VAE\n",
    "        hf_gen = hfvae_model.sample(1000)\n",
    "        hf_mmd += MMD(hf_gen, xH_tst, mmd_para)\n",
    "\n",
    "        # BF-VAE\n",
    "        bf_gen = bfvae_model.sample(1000)\n",
    "        bf_mmd += MMD(bf_gen, xH_tst, mmd_para)\n",
    "        \n",
    "    hf_mmd_lst.append(hf_mmd/num_trial)\n",
    "    bf_mmd_lst.append(bf_mmd/num_trial)"
   ]
  },
  {
   "cell_type": "code",
   "execution_count": 24,
   "metadata": {},
   "outputs": [
    {
     "data": {
      "image/png": "[encoded data removed]",
      "text/plain": [
       "<Figure size 432x288 with 1 Axes>"
      ]
     },
     "metadata": {
      "needs_background": "light"
     },
     "output_type": "display_data"
    }
   ],
   "source": [
    "plt.plot(hf_size_lst, hf_mmd_lst, 'o' ,c='b', label='HF-VAE', alpha=0.8)\n",
    "plt.plot(hf_size_lst, bf_mmd_lst, 'o' ,c='y', label='BF-VAE', alpha=0.8)\n",
    "plt.legend()\n",
    "plt.xscale('log')\n",
    "plt.yscale('log')"
   ]
  }
 ],
 "metadata": {
  "kernelspec": {
   "display_name": "Python 3",
   "language": "python",
   "name": "python3"
  },
  "language_info": {
   "codemirror_mode": {
    "name": "ipython",
    "version": 3
   },
   "file_extension": ".py",
   "mimetype": "text/x-python",
   "name": "python",
   "nbconvert_exporter": "python",
   "pygments_lexer": "ipython3",
   "version": "3.8.5"
  }
 },
 "nbformat": 4,
 "nbformat_minor": 4
}
